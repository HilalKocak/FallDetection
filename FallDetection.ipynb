{
  "nbformat": 4,
  "nbformat_minor": 0,
  "metadata": {
    "colab": {
      "name": "FallDetection.ipynb",
      "provenance": [],
      "collapsed_sections": [],
      "machine_shape": "hm"
    },
    "kernelspec": {
      "name": "python3",
      "display_name": "Python 3"
    },
    "accelerator": "GPU"
  },
  "cells": [
    {
      "cell_type": "code",
      "metadata": {
        "id": "hU9-FyRfZr0N",
        "colab": {
          "base_uri": "https://localhost:8080/"
        },
        "outputId": "718b7768-d48a-4090-817c-1b381675bead"
      },
      "source": [
        "from google.colab import drive\n",
        "drive.mount('/content/drive/', force_remount=True)"
      ],
      "execution_count": 2,
      "outputs": [
        {
          "output_type": "stream",
          "name": "stdout",
          "text": [
            "Mounted at /content/drive/\n"
          ]
        }
      ]
    },
    {
      "cell_type": "code",
      "metadata": {
        "id": "3kCmQQGyNuMh"
      },
      "source": [
        "#!/usr/bin/env python3\n",
        "# -*- coding: utf-8 -*-\n",
        "\"\"\"\n",
        "Created on Sat Aug  8 22:00:53 2020\n",
        "\n",
        "@author: hilal\n",
        "\"\"\"\n",
        "\n",
        "import pandas as pd\n",
        "import numpy as np\n",
        "import matplotlib.pyplot as plt\n",
        "from os import listdir\n",
        "from keras.preprocessing import sequence\n",
        "import tensorflow as tf\n",
        "from keras.models import Sequential\n",
        "from keras.layers import Dense, BatchNormalization\n",
        "from keras.layers import LSTM\n",
        "\n",
        "from keras.models import load_model\n",
        "from keras.callbacks import ModelCheckpoint\n",
        "import glob\n",
        "\n",
        "from sklearn.preprocessing import MinMaxScaler\n",
        "# ignore warnings\n",
        "import warnings\n",
        "warnings.simplefilter(action='ignore')\n",
        "path = '/content/drive/My Drive/Colab Notebooks/Tests/'\n",
        "\n",
        "testdir = glob.glob(path+\"*/\")\n"
      ],
      "execution_count": 3,
      "outputs": []
    },
    {
      "cell_type": "code",
      "metadata": {
        "id": "Qu_vNFglgViJ"
      },
      "source": [
        "\n",
        "targets=list()\n",
        "sequences = list()\n",
        "\n",
        "for i in range(0,len(testdir)):\n",
        "    adlFallTest= glob.glob(testdir[i]+\"Testler Export/\" +\"*/\")\n",
        "    for j in range(0, len(adlFallTest)):\n",
        "            tests= glob.glob(adlFallTest[j]+\"*/\")\n",
        "            for k in range(0,len(tests)):\n",
        "                file_path= tests[k]+ '340537.txt'\n",
        "                df = pd.read_csv(file_path, header=4, delimiter='\\t')\n",
        "                df.drop(columns=[\"Unnamed: 23\",\"Counter\", \"Temperature\",\"Pressure\"], inplace=True)\n",
        "                df.dropna(inplace = True)\n",
        "                values = df.values\n",
        "                if len(df)>0:\n",
        "                    sequences.append(values)\n",
        "                    if adlFallTest[j][65]==\"8\":\n",
        "                        targets.append(0)\n",
        "                    else:\n",
        "                        targets.append(1)\n",
        "                    \n",
        "\n",
        "import random\n",
        "random.Random(3).shuffle(targets)       \n",
        "random.Random(3).shuffle(sequences)\n",
        "                         \n",
        "group2 = np.full((2214, 1), 2) #train\n",
        "group3=np.full((553, 1), 3) #test\n",
        "group1=np.full((553, 1), 1) #validation\n",
        "groups = np.concatenate((group2,group3,group1), axis=0)\n",
        "    \n",
        "len_sequences=[]\n",
        "for one_sequence in sequences:\n",
        "  len_sequences.append(len(one_sequence))\n",
        "pd.Series(len_sequences).describe()\n",
        "\n",
        "to_pad = 950\n",
        "new_seq = []\n",
        "for one_seq in sequences:\n",
        "    len_one_seq = len(one_seq)\n",
        "    last_val = one_seq[-1]\n",
        "    n = to_pad - len_one_seq\n",
        "    to_concat = np.repeat(one_seq[-1], n).reshape(20, n).transpose() # ilk iki sütunu silmem gerek\n",
        "    new_one_seq = np.concatenate([one_seq, to_concat])\n",
        "    new_seq.append(new_one_seq)\n",
        "final_seq = np.stack(new_seq)\n",
        "\n",
        "seq_len = 945\n",
        "final_seq=sequence.pad_sequences(final_seq, maxlen=seq_len, padding='post', dtype='float', truncating='post')\n"
      ],
      "execution_count": 4,
      "outputs": []
    },
    {
      "cell_type": "code",
      "metadata": {
        "id": "kWyThG0lyb-l",
        "colab": {
          "base_uri": "https://localhost:8080/",
          "height": 279
        },
        "outputId": "5f8248fd-afdd-4363-f1ea-b6f0bfcad19d"
      },
      "source": [
        "import seaborn as sns\n",
        "\n",
        "import matplotlib.pyplot as plt\n",
        "#plt.hist(targets)\n",
        "plt.figure(figsize=(7,4))\n",
        "#plt.title('Distribution of ADL and FALL')\n",
        "plt.xlabel('class')\n",
        "plt.ylabel('Count')\n",
        "\n",
        "sns.countplot(targets, color=\"#0FA5FF\")\n",
        "plt.savefig('/content/drive/My Drive/Colab Notebooks/newhist.png', format='png', dpi=100)\n",
        "plt.show()"
      ],
      "execution_count": 5,
      "outputs": [
        {
          "output_type": "display_data",
          "data": {
            "image/png": "[encoded data removed]",
            "text/plain": [
              "<Figure size 504x288 with 1 Axes>"
            ]
          },
          "metadata": {
            "needs_background": "light"
          }
        }
      ]
    },
    {
      "cell_type": "code",
      "metadata": {
        "id": "1TDNaXgQ8O6y",
        "colab": {
          "base_uri": "https://localhost:8080/",
          "height": 35
        },
        "outputId": "dbd01052-d19a-4d97-fd7b-ef0ceac65742"
      },
      "source": [
        "file_path"
      ],
      "execution_count": 6,
      "outputs": [
        {
          "output_type": "execute_result",
          "data": {
            "application/vnd.google.colaboratory.intrinsic+json": {
              "type": "string"
            },
            "text/plain": [
              "'/content/drive/My Drive/Colab Notebooks/Tests/206/Testler Export/802-YurumeGeri/Test_2/340537.txt'"
            ]
          },
          "metadata": {},
          "execution_count": 6
        }
      ]
    },
    {
      "cell_type": "code",
      "metadata": {
        "id": "MCGvi6WG3SMw"
      },
      "source": [
        ""
      ],
      "execution_count": null,
      "outputs": []
    },
    {
      "cell_type": "code",
      "metadata": {
        "id": "cMo8clengtsD",
        "colab": {
          "base_uri": "https://localhost:8080/"
        },
        "outputId": "c02b546b-b798-495f-c252-034b6dd2b51c"
      },
      "source": [
        "len_sequences=[]\n",
        "for one_sequence in sequences:\n",
        "  len_sequences.append(len(one_sequence))\n",
        "pd.Series(len_sequences).describe()"
      ],
      "execution_count": 8,
      "outputs": [
        {
          "output_type": "execute_result",
          "data": {
            "text/plain": [
              "count    3335.000000\n",
              "mean      480.199100\n",
              "std        97.116044\n",
              "min        68.000000\n",
              "25%       412.000000\n",
              "50%       458.000000\n",
              "75%       531.000000\n",
              "max       945.000000\n",
              "dtype: float64"
            ]
          },
          "metadata": {},
          "execution_count": 8
        }
      ]
    },
    {
      "cell_type": "code",
      "metadata": {
        "id": "Ooz8K9-K9QLF"
      },
      "source": [
        "adl=list()\n",
        "fall=list()\n",
        "for i in targets:\n",
        "  if targets[i]==0:\n",
        "    adl.append(targets[i])\n",
        "  else:\n",
        "    fall.append(targets[i])"
      ],
      "execution_count": 9,
      "outputs": []
    },
    {
      "cell_type": "code",
      "metadata": {
        "id": "z10-mGVG3TZR",
        "colab": {
          "base_uri": "https://localhost:8080/",
          "height": 334
        },
        "outputId": "23f1e6f2-5c64-4087-9575-9c3b36fd6202"
      },
      "source": [
        "import seaborn as sns\n",
        "\n",
        "import matplotlib.pyplot as plt\n",
        "plt.figure(figsize=(7,5))\n",
        "#plt.title('Distribution of ADL and FALL')\n",
        "plt.xlabel('Size of time series')\n",
        "plt.ylabel('Count')\n",
        "#sns.countplot(adl)\n",
        "plt.hist(len_sequences, color= \"#E11A1A\")\n",
        "plt.savefig('/content/drive/My Drive/Colab Notebooks/hist3.png', format='png', dpi=100)\n",
        "plt.show()"
      ],
      "execution_count": 10,
      "outputs": [
        {
          "output_type": "display_data",
          "data": {
            "image/png": "[encoded data removed]",
            "text/plain": [
              "<Figure size 504x360 with 1 Axes>"
            ]
          },
          "metadata": {
            "needs_background": "light"
          }
        }
      ]
    },
    {
      "cell_type": "code",
      "metadata": {
        "id": "bSrWwhVT6M1r",
        "colab": {
          "base_uri": "https://localhost:8080/",
          "height": 244
        },
        "outputId": "89b672e5-e995-480f-c4ea-20ddd97435a3"
      },
      "source": [
        "\n",
        "df_adl=pd.read_csv('/content/drive/My Drive/Colab Notebooks/Tests/206/Testler Export/803-TempoluYavasKosu/Test_2/340537.txt',header=4, delimiter='\\t')\n",
        "df_fall=pd.read_csv('/content/drive/My Drive/Colab Notebooks/Tests/206/Testler Export/917-YataktanDusme/Test_2/340537.txt',header=4, delimiter='\\t')\n",
        "df_adl.tail()"
      ],
      "execution_count": 11,
      "outputs": [
        {
          "output_type": "execute_result",
          "data": {
            "text/html": [
              "<div>\n",
              "<style scoped>\n",
              "    .dataframe tbody tr th:only-of-type {\n",
              "        vertical-align: middle;\n",
              "    }\n",
              "\n",
              "    .dataframe tbody tr th {\n",
              "        vertical-align: top;\n",
              "    }\n",
              "\n",
              "    .dataframe thead th {\n",
              "        text-align: right;\n",
              "    }\n",
              "</style>\n",
              "<table border=\"1\" class=\"dataframe\">\n",
              "  <thead>\n",
              "    <tr style=\"text-align: right;\">\n",
              "      <th></th>\n",
              "      <th>Counter</th>\n",
              "      <th>Temperature</th>\n",
              "      <th>VelInc_X</th>\n",
              "      <th>VelInc_Y</th>\n",
              "      <th>VelInc_Z</th>\n",
              "      <th>OriInc_w</th>\n",
              "      <th>OriInc_x</th>\n",
              "      <th>OriInc_y</th>\n",
              "      <th>OriInc_z</th>\n",
              "      <th>Acc_X</th>\n",
              "      <th>Acc_Y</th>\n",
              "      <th>Acc_Z</th>\n",
              "      <th>Gyr_X</th>\n",
              "      <th>Gyr_Y</th>\n",
              "      <th>Gyr_Z</th>\n",
              "      <th>Mag_X</th>\n",
              "      <th>Mag_Y</th>\n",
              "      <th>Mag_Z</th>\n",
              "      <th>Pressure</th>\n",
              "      <th>Roll</th>\n",
              "      <th>Pitch</th>\n",
              "      <th>Yaw</th>\n",
              "      <th>RSSI</th>\n",
              "      <th>Unnamed: 23</th>\n",
              "    </tr>\n",
              "  </thead>\n",
              "  <tbody>\n",
              "    <tr>\n",
              "      <th>500</th>\n",
              "      <td>29357</td>\n",
              "      <td>0</td>\n",
              "      <td>0.387878</td>\n",
              "      <td>-0.018494</td>\n",
              "      <td>0.054993</td>\n",
              "      <td>0.999999</td>\n",
              "      <td>-0.000328</td>\n",
              "      <td>0.000127</td>\n",
              "      <td>0.000259</td>\n",
              "      <td>9.696960</td>\n",
              "      <td>-0.462341</td>\n",
              "      <td>1.374817</td>\n",
              "      <td>-0.016403</td>\n",
              "      <td>0.006342</td>\n",
              "      <td>0.012970</td>\n",
              "      <td>-1.055664</td>\n",
              "      <td>0.202148</td>\n",
              "      <td>0.772949</td>\n",
              "      <td>878.02</td>\n",
              "      <td>-16.114979</td>\n",
              "      <td>-81.998115</td>\n",
              "      <td>-140.524144</td>\n",
              "      <td>-39.0</td>\n",
              "      <td>NaN</td>\n",
              "    </tr>\n",
              "    <tr>\n",
              "      <th>501</th>\n",
              "      <td>29358</td>\n",
              "      <td>0</td>\n",
              "      <td>0.389319</td>\n",
              "      <td>-0.018915</td>\n",
              "      <td>0.054162</td>\n",
              "      <td>0.999999</td>\n",
              "      <td>-0.000507</td>\n",
              "      <td>0.000263</td>\n",
              "      <td>0.000191</td>\n",
              "      <td>9.732985</td>\n",
              "      <td>-0.472879</td>\n",
              "      <td>1.354051</td>\n",
              "      <td>-0.025368</td>\n",
              "      <td>0.013161</td>\n",
              "      <td>0.009537</td>\n",
              "      <td>-1.053223</td>\n",
              "      <td>0.201904</td>\n",
              "      <td>0.770020</td>\n",
              "      <td>878.00</td>\n",
              "      <td>-16.233873</td>\n",
              "      <td>-81.954245</td>\n",
              "      <td>-140.462654</td>\n",
              "      <td>-39.0</td>\n",
              "      <td>NaN</td>\n",
              "    </tr>\n",
              "    <tr>\n",
              "      <th>502</th>\n",
              "      <td>29359</td>\n",
              "      <td>0</td>\n",
              "      <td>0.391663</td>\n",
              "      <td>-0.020020</td>\n",
              "      <td>0.053406</td>\n",
              "      <td>0.999999</td>\n",
              "      <td>-0.000217</td>\n",
              "      <td>0.000085</td>\n",
              "      <td>0.000168</td>\n",
              "      <td>9.791565</td>\n",
              "      <td>-0.500488</td>\n",
              "      <td>1.335144</td>\n",
              "      <td>-0.010872</td>\n",
              "      <td>0.004244</td>\n",
              "      <td>0.008392</td>\n",
              "      <td>-1.053223</td>\n",
              "      <td>0.199707</td>\n",
              "      <td>0.770264</td>\n",
              "      <td>878.06</td>\n",
              "      <td>-16.341268</td>\n",
              "      <td>-81.930880</td>\n",
              "      <td>-140.379831</td>\n",
              "      <td>-39.0</td>\n",
              "      <td>NaN</td>\n",
              "    </tr>\n",
              "    <tr>\n",
              "      <th>503</th>\n",
              "      <td>29360</td>\n",
              "      <td>0</td>\n",
              "      <td>0.389022</td>\n",
              "      <td>-0.018892</td>\n",
              "      <td>0.054317</td>\n",
              "      <td>0.999999</td>\n",
              "      <td>-0.000180</td>\n",
              "      <td>0.000086</td>\n",
              "      <td>0.000183</td>\n",
              "      <td>9.725547</td>\n",
              "      <td>-0.472307</td>\n",
              "      <td>1.357913</td>\n",
              "      <td>-0.009012</td>\n",
              "      <td>0.004292</td>\n",
              "      <td>0.009155</td>\n",
              "      <td>-1.053467</td>\n",
              "      <td>0.201904</td>\n",
              "      <td>0.775879</td>\n",
              "      <td>878.06</td>\n",
              "      <td>-16.454791</td>\n",
              "      <td>-81.907019</td>\n",
              "      <td>-140.286249</td>\n",
              "      <td>-39.0</td>\n",
              "      <td>NaN</td>\n",
              "    </tr>\n",
              "    <tr>\n",
              "      <th>504</th>\n",
              "      <td>29361</td>\n",
              "      <td>0</td>\n",
              "      <td>0.387695</td>\n",
              "      <td>-0.018311</td>\n",
              "      <td>0.055542</td>\n",
              "      <td>0.999999</td>\n",
              "      <td>-0.000359</td>\n",
              "      <td>0.000066</td>\n",
              "      <td>0.000259</td>\n",
              "      <td>9.692383</td>\n",
              "      <td>-0.457764</td>\n",
              "      <td>1.388550</td>\n",
              "      <td>-0.017929</td>\n",
              "      <td>0.003290</td>\n",
              "      <td>0.012970</td>\n",
              "      <td>-1.055664</td>\n",
              "      <td>0.201904</td>\n",
              "      <td>0.770264</td>\n",
              "      <td>878.02</td>\n",
              "      <td>-16.650457</td>\n",
              "      <td>-81.882901</td>\n",
              "      <td>-140.129852</td>\n",
              "      <td>-39.0</td>\n",
              "      <td>NaN</td>\n",
              "    </tr>\n",
              "  </tbody>\n",
              "</table>\n",
              "</div>"
            ],
            "text/plain": [
              "     Counter  Temperature  VelInc_X  ...         Yaw  RSSI  Unnamed: 23\n",
              "500    29357            0  0.387878  ... -140.524144 -39.0          NaN\n",
              "501    29358            0  0.389319  ... -140.462654 -39.0          NaN\n",
              "502    29359            0  0.391663  ... -140.379831 -39.0          NaN\n",
              "503    29360            0  0.389022  ... -140.286249 -39.0          NaN\n",
              "504    29361            0  0.387695  ... -140.129852 -39.0          NaN\n",
              "\n",
              "[5 rows x 24 columns]"
            ]
          },
          "metadata": {},
          "execution_count": 11
        }
      ]
    },
    {
      "cell_type": "code",
      "metadata": {
        "id": "U3fZaQaCgwNE",
        "colab": {
          "base_uri": "https://localhost:8080/",
          "height": 320
        },
        "outputId": "be8ef1ca-0983-43e7-9bf7-b59beaffa57f"
      },
      "source": [
        "f,ax = plt.subplots(figsize=(12, 5))\n",
        "\n",
        "\n",
        "df_fall.VelInc_X.plot()\n",
        "df_fall.VelInc_Y.plot()\n",
        "df_fall.VelInc_Z.plot()\n",
        "df_fall.Acc_X.plot()\n",
        "df_fall.Acc_Y.plot()\n",
        "df_fall.Acc_Z.plot()\n",
        "df_fall.OriInc_x.plot()\n",
        "df_fall.OriInc_y.plot()\n",
        "df_fall.OriInc_w.plot()\n",
        "df_fall.OriInc_z.plot()\n",
        "df_fall.Gyr_X.plot()\n",
        "df_fall.Gyr_Y.plot()\n",
        "df_fall.Gyr_Z.plot()\n",
        "df_fall.Mag_X.plot()\n",
        "df_fall.Mag_Y.plot()\n",
        "df_fall.Mag_Z.plot()\n",
        "#df_fall.Pressure.plot()\n",
        "df_fall.Roll.plot()\n",
        "df_fall.RSSI.plot()\n",
        "df_fall.Pitch.plot()\n",
        "df_fall.Yaw.plot()\n",
        "plt.legend({'VelInc_X','VelInc_Y','VelInc_Z','Acc_X','Acc_Y','Acc_Z','OriInc_x','OriInc_y','OriInc_z','OriInc_w','Gyr_X','Gyr_Y','Gyr_Z','Mag_X','Mag_Y','Mag_Z','Roll','RSSI','Pitch','Yaw'}, ncol=2, loc=\"top\")\n",
        "plt.savefig('/content/drive/My Drive/Colab Notebooks/FALL.png', format='png', dpi=300)\n"
      ],
      "execution_count": 12,
      "outputs": [
        {
          "output_type": "display_data",
          "data": {
            "image/png": "[encoded data removed]",
            "text/plain": [
              "<Figure size 864x360 with 1 Axes>"
            ]
          },
          "metadata": {
            "needs_background": "light"
          }
        }
      ]
    },
    {
      "cell_type": "code",
      "metadata": {
        "colab": {
          "base_uri": "https://localhost:8080/",
          "height": 320
        },
        "id": "qVJjp4QotZFz",
        "outputId": "5167359d-8081-4905-8f96-982a2e7be6ff"
      },
      "source": [
        "f,ax = plt.subplots(figsize=(12, 5))\n",
        "\n",
        "\n",
        "df_adl.VelInc_X.plot()\n",
        "df_adl.VelInc_Y.plot()\n",
        "df_adl.VelInc_Z.plot()\n",
        "df_adl.Acc_X.plot()\n",
        "df_adl.Acc_Y.plot()\n",
        "df_adl.Acc_Z.plot()\n",
        "df_adl.OriInc_x.plot()\n",
        "df_adl.OriInc_y.plot()\n",
        "df_adl.OriInc_w.plot()\n",
        "df_adl.OriInc_z.plot()\n",
        "df_adl.Gyr_X.plot()\n",
        "df_adl.Gyr_Y.plot()\n",
        "df_adl.Gyr_Z.plot()\n",
        "df_adl.Mag_X.plot()\n",
        "df_adl.Mag_Y.plot()\n",
        "df_adl.Mag_Z.plot()\n",
        "#df_adl.Pressure.plot()\n",
        "df_adl.Roll.plot()\n",
        "df_adl.RSSI.plot()\n",
        "df_adl.Pitch.plot()\n",
        "df_adl.Yaw.plot()\n",
        "plt.legend({'VelInc_X','VelInc_Y','VelInc_Z','Acc_X','Acc_Y','Acc_Z','OriInc_x','OriInc_y','OriInc_z','OriInc_w','Gyr_X','Gyr_Y','Gyr_Z','Mag_X','Mag_Y','Mag_Z','Roll','RSSI','Pitch','Yaw'}, ncol=2, loc=\"top\")\n",
        "plt.savefig('/content/drive/My Drive/Colab Notebooks/ADL.png', format='png', dpi=300)"
      ],
      "execution_count": 13,
      "outputs": [
        {
          "output_type": "display_data",
          "data": {
            "image/png": "[encoded data removed]",
            "text/plain": [
              "<Figure size 864x360 with 1 Axes>"
            ]
          },
          "metadata": {
            "needs_background": "light"
          }
        }
      ]
    },
    {
      "cell_type": "code",
      "metadata": {
        "id": "AlfAhxv7f64n"
      },
      "source": [
        "train = [final_seq[i] for i in range(len(groups)) if (groups[i]==2)]\n",
        "validation = [final_seq[i] for i in range(len(groups)) if groups[i]==1]\n",
        "test = [final_seq[i] for i in range(len(groups)) if groups[i]==3]\n",
        "\n",
        "\n",
        "train_target = [targets[i] for i in range(len(groups)) if (groups[i]==2)]\n",
        "validation_target = [targets[i] for i in range(len(groups)) if groups[i]==1]\n",
        "test_target = [targets[i] for i in range(len(groups)) if groups[i]==3]\n",
        "\n",
        "train = np.array(train)\n",
        "validation = np.array(validation)\n",
        "test = np.array(test)\n",
        "\n",
        "\n",
        "train_target = np.array(train_target)\n",
        "\n",
        "\n",
        "validation_target = np.array(validation_target)\n",
        "\n",
        "\n",
        "test_target = np.array(test_target)\n",
        "\n",
        "\n"
      ],
      "execution_count": 14,
      "outputs": []
    },
    {
      "cell_type": "code",
      "metadata": {
        "id": "iy9zw2Nv80sN"
      },
      "source": [
        "from pandas import read_csv\n",
        "from pandas import DataFrame\n",
        "from pandas import Grouper\n",
        "from matplotlib import pyplot\n",
        "#series = read_csv('daily-minimum-temperatures.csv', header=0, index_col=0, parse_dates=True, squeeze=True)\n",
        "series=pd.read_csv('/content/drive/My Drive/Colab Notebooks/Tests/206/Testler Export/803-TempoluYavasKosu/Test_2/340537.txt',header=4, delimiter='\\t',index_col=0, parse_dates=True, squeeze=True)\n"
      ],
      "execution_count": 15,
      "outputs": []
    },
    {
      "cell_type": "code",
      "metadata": {
        "id": "tBN9X3MncuFy",
        "colab": {
          "base_uri": "https://localhost:8080/"
        },
        "outputId": "5f2738ca-2c91-4558-b9ff-40eb83fcee97"
      },
      "source": [
        "from keras.layers import Dropout\n",
        "import tensorflow as tf\n",
        "\n",
        "\n",
        "model = Sequential()\n",
        "model.add(LSTM(128, input_shape=(seq_len, 20)))\n",
        "model.add(BatchNormalization())\n",
        "model.add(Dropout(0.1))\n",
        "model.add(Dense(30, activation='relu'))\n",
        "model.add(BatchNormalization())\n",
        "model.add(Dense(1, activation='sigmoid'))\n",
        "model.summary()\n",
        "adam = tf.keras.optimizers.Adam(lr=0.001)\n",
        "chk = ModelCheckpoint('best_model.pkl', monitor='val_acc', save_best_only=True, mode='max', verbose=1)\n",
        "model.compile(loss='binary_crossentropy', optimizer=adam, metrics=['accuracy'])\n",
        "history = model.fit(train, train_target, epochs=100, batch_size=100, callbacks=[chk], validation_data=(validation,validation_target))\n",
        "\n",
        "\n",
        "\n",
        "#loading the model and checking accuracy on the test data\n",
        "#model = load_model('best_model1.pkl')\n",
        "\n",
        "from sklearn.metrics import accuracy_score\n",
        "test_preds = model.predict_classes(test)\n",
        "print(\"başarım\", accuracy_score(test_target, test_preds))\n",
        "\n",
        "\n"
      ],
      "execution_count": null,
      "outputs": [
        {
          "output_type": "stream",
          "name": "stdout",
          "text": [
            "Model: \"sequential\"\n",
            "_________________________________________________________________\n",
            " Layer (type)                Output Shape              Param #   \n",
            "=================================================================\n",
            " lstm (LSTM)                 (None, 128)               76288     \n",
            "                                                                 \n",
            " batch_normalization (BatchN  (None, 128)              512       \n",
            " ormalization)                                                   \n",
            "                                                                 \n",
            " dropout (Dropout)           (None, 128)               0         \n",
            "                                                                 \n",
            " dense (Dense)               (None, 30)                3870      \n",
            "                                                                 \n",
            " batch_normalization_1 (Batc  (None, 30)               120       \n",
            " hNormalization)                                                 \n",
            "                                                                 \n",
            " dense_1 (Dense)             (None, 1)                 31        \n",
            "                                                                 \n",
            "=================================================================\n",
            "Total params: 80,821\n",
            "Trainable params: 80,505\n",
            "Non-trainable params: 316\n",
            "_________________________________________________________________\n",
            "Epoch 1/100\n",
            "23/23 [==============================] - ETA: 0s - loss: 0.5665 - accuracy: 0.7078WARNING:tensorflow:Can save best model only with val_acc available, skipping.\n",
            "23/23 [==============================] - 13s 219ms/step - loss: 0.5665 - accuracy: 0.7078 - val_loss: 0.4688 - val_accuracy: 0.8065\n",
            "Epoch 2/100\n",
            "23/23 [==============================] - ETA: 0s - loss: 0.3487 - accuracy: 0.8437WARNING:tensorflow:Can save best model only with val_acc available, skipping.\n",
            "23/23 [==============================] - 4s 183ms/step - loss: 0.3487 - accuracy: 0.8437 - val_loss: 0.4137 - val_accuracy: 0.8553\n",
            "Epoch 3/100\n",
            "23/23 [==============================] - ETA: 0s - loss: 0.2980 - accuracy: 0.8771WARNING:tensorflow:Can save best model only with val_acc available, skipping.\n",
            "23/23 [==============================] - 4s 184ms/step - loss: 0.2980 - accuracy: 0.8771 - val_loss: 0.3832 - val_accuracy: 0.8571\n",
            "Epoch 4/100\n",
            "23/23 [==============================] - ETA: 0s - loss: 0.2822 - accuracy: 0.8812WARNING:tensorflow:Can save best model only with val_acc available, skipping.\n",
            "23/23 [==============================] - 4s 184ms/step - loss: 0.2822 - accuracy: 0.8812 - val_loss: 0.3594 - val_accuracy: 0.8590\n",
            "Epoch 5/100\n",
            "23/23 [==============================] - ETA: 0s - loss: 0.2699 - accuracy: 0.8889WARNING:tensorflow:Can save best model only with val_acc available, skipping.\n",
            "23/23 [==============================] - 4s 184ms/step - loss: 0.2699 - accuracy: 0.8889 - val_loss: 0.3327 - val_accuracy: 0.8662\n",
            "Epoch 6/100\n",
            "23/23 [==============================] - ETA: 0s - loss: 0.2441 - accuracy: 0.8952WARNING:tensorflow:Can save best model only with val_acc available, skipping.\n",
            "23/23 [==============================] - 4s 184ms/step - loss: 0.2441 - accuracy: 0.8952 - val_loss: 0.3039 - val_accuracy: 0.8825\n",
            "Epoch 7/100\n",
            "23/23 [==============================] - ETA: 0s - loss: 0.2330 - accuracy: 0.9070WARNING:tensorflow:Can save best model only with val_acc available, skipping.\n",
            "23/23 [==============================] - 4s 184ms/step - loss: 0.2330 - accuracy: 0.9070 - val_loss: 0.2909 - val_accuracy: 0.8861\n",
            "Epoch 8/100\n",
            "23/23 [==============================] - ETA: 0s - loss: 0.2279 - accuracy: 0.9101WARNING:tensorflow:Can save best model only with val_acc available, skipping.\n",
            "23/23 [==============================] - 5s 198ms/step - loss: 0.2279 - accuracy: 0.9101 - val_loss: 0.2768 - val_accuracy: 0.8843\n",
            "Epoch 9/100\n",
            "23/23 [==============================] - ETA: 0s - loss: 0.2155 - accuracy: 0.9061WARNING:tensorflow:Can save best model only with val_acc available, skipping.\n",
            "23/23 [==============================] - 4s 183ms/step - loss: 0.2155 - accuracy: 0.9061 - val_loss: 0.2423 - val_accuracy: 0.9060\n",
            "Epoch 10/100\n",
            "23/23 [==============================] - ETA: 0s - loss: 0.2099 - accuracy: 0.9137WARNING:tensorflow:Can save best model only with val_acc available, skipping.\n",
            "23/23 [==============================] - 4s 185ms/step - loss: 0.2099 - accuracy: 0.9137 - val_loss: 0.2820 - val_accuracy: 0.8915\n",
            "Epoch 11/100\n",
            "23/23 [==============================] - ETA: 0s - loss: 0.2141 - accuracy: 0.9124WARNING:tensorflow:Can save best model only with val_acc available, skipping.\n",
            "23/23 [==============================] - 5s 199ms/step - loss: 0.2141 - accuracy: 0.9124 - val_loss: 0.2388 - val_accuracy: 0.9060\n",
            "Epoch 12/100\n",
            "23/23 [==============================] - ETA: 0s - loss: 0.2104 - accuracy: 0.9151WARNING:tensorflow:Can save best model only with val_acc available, skipping.\n",
            "23/23 [==============================] - 4s 186ms/step - loss: 0.2104 - accuracy: 0.9151 - val_loss: 0.2439 - val_accuracy: 0.9096\n",
            "Epoch 13/100\n",
            "23/23 [==============================] - ETA: 0s - loss: 0.1935 - accuracy: 0.9182WARNING:tensorflow:Can save best model only with val_acc available, skipping.\n",
            "23/23 [==============================] - 4s 185ms/step - loss: 0.1935 - accuracy: 0.9182 - val_loss: 0.2153 - val_accuracy: 0.9222\n",
            "Epoch 14/100\n",
            "23/23 [==============================] - ETA: 0s - loss: 0.1783 - accuracy: 0.9273WARNING:tensorflow:Can save best model only with val_acc available, skipping.\n",
            "23/23 [==============================] - 4s 184ms/step - loss: 0.1783 - accuracy: 0.9273 - val_loss: 0.2353 - val_accuracy: 0.9078\n",
            "Epoch 15/100\n",
            "23/23 [==============================] - ETA: 0s - loss: 0.1723 - accuracy: 0.9309WARNING:tensorflow:Can save best model only with val_acc available, skipping.\n",
            "23/23 [==============================] - 4s 184ms/step - loss: 0.1723 - accuracy: 0.9309 - val_loss: 0.2295 - val_accuracy: 0.9204\n",
            "Epoch 16/100\n",
            "23/23 [==============================] - ETA: 0s - loss: 0.1619 - accuracy: 0.9368WARNING:tensorflow:Can save best model only with val_acc available, skipping.\n",
            "23/23 [==============================] - 4s 184ms/step - loss: 0.1619 - accuracy: 0.9368 - val_loss: 0.2046 - val_accuracy: 0.9259\n",
            "Epoch 17/100\n",
            "23/23 [==============================] - ETA: 0s - loss: 0.1611 - accuracy: 0.9345WARNING:tensorflow:Can save best model only with val_acc available, skipping.\n",
            "23/23 [==============================] - 4s 185ms/step - loss: 0.1611 - accuracy: 0.9345 - val_loss: 0.2101 - val_accuracy: 0.9295\n",
            "Epoch 18/100\n",
            "23/23 [==============================] - ETA: 0s - loss: 0.1559 - accuracy: 0.9408WARNING:tensorflow:Can save best model only with val_acc available, skipping.\n",
            "23/23 [==============================] - 4s 184ms/step - loss: 0.1559 - accuracy: 0.9408 - val_loss: 0.2137 - val_accuracy: 0.9241\n",
            "Epoch 19/100\n",
            "23/23 [==============================] - ETA: 0s - loss: 0.1475 - accuracy: 0.9444WARNING:tensorflow:Can save best model only with val_acc available, skipping.\n",
            "23/23 [==============================] - 4s 185ms/step - loss: 0.1475 - accuracy: 0.9444 - val_loss: 0.2142 - val_accuracy: 0.9313\n",
            "Epoch 20/100\n",
            "23/23 [==============================] - ETA: 0s - loss: 0.1429 - accuracy: 0.9372WARNING:tensorflow:Can save best model only with val_acc available, skipping.\n",
            "23/23 [==============================] - 4s 186ms/step - loss: 0.1429 - accuracy: 0.9372 - val_loss: 0.2123 - val_accuracy: 0.9241\n",
            "Epoch 21/100\n",
            "23/23 [==============================] - ETA: 0s - loss: 0.1436 - accuracy: 0.9399WARNING:tensorflow:Can save best model only with val_acc available, skipping.\n",
            "23/23 [==============================] - 4s 185ms/step - loss: 0.1436 - accuracy: 0.9399 - val_loss: 0.1856 - val_accuracy: 0.9241\n",
            "Epoch 22/100\n",
            "23/23 [==============================] - ETA: 0s - loss: 0.1519 - accuracy: 0.9368WARNING:tensorflow:Can save best model only with val_acc available, skipping.\n",
            "23/23 [==============================] - 4s 185ms/step - loss: 0.1519 - accuracy: 0.9368 - val_loss: 0.1889 - val_accuracy: 0.9349\n",
            "Epoch 23/100\n",
            "23/23 [==============================] - ETA: 0s - loss: 0.1372 - accuracy: 0.9444WARNING:tensorflow:Can save best model only with val_acc available, skipping.\n",
            "23/23 [==============================] - 4s 184ms/step - loss: 0.1372 - accuracy: 0.9444 - val_loss: 0.1765 - val_accuracy: 0.9349\n",
            "Epoch 24/100\n",
            "23/23 [==============================] - ETA: 0s - loss: 0.1318 - accuracy: 0.9526WARNING:tensorflow:Can save best model only with val_acc available, skipping.\n",
            "23/23 [==============================] - 4s 185ms/step - loss: 0.1318 - accuracy: 0.9526 - val_loss: 0.1823 - val_accuracy: 0.9277\n",
            "Epoch 25/100\n",
            "23/23 [==============================] - ETA: 0s - loss: 0.1229 - accuracy: 0.9557WARNING:tensorflow:Can save best model only with val_acc available, skipping.\n",
            "23/23 [==============================] - 4s 183ms/step - loss: 0.1229 - accuracy: 0.9557 - val_loss: 0.1786 - val_accuracy: 0.9421\n",
            "Epoch 26/100\n",
            "23/23 [==============================] - ETA: 0s - loss: 0.1069 - accuracy: 0.9612WARNING:tensorflow:Can save best model only with val_acc available, skipping.\n",
            "23/23 [==============================] - 4s 187ms/step - loss: 0.1069 - accuracy: 0.9612 - val_loss: 0.1858 - val_accuracy: 0.9349\n",
            "Epoch 27/100\n",
            "23/23 [==============================] - ETA: 0s - loss: 0.1047 - accuracy: 0.9661WARNING:tensorflow:Can save best model only with val_acc available, skipping.\n",
            "23/23 [==============================] - 4s 185ms/step - loss: 0.1047 - accuracy: 0.9661 - val_loss: 0.2011 - val_accuracy: 0.9259\n",
            "Epoch 28/100\n",
            "23/23 [==============================] - ETA: 0s - loss: 0.1004 - accuracy: 0.9639WARNING:tensorflow:Can save best model only with val_acc available, skipping.\n",
            "23/23 [==============================] - 4s 183ms/step - loss: 0.1004 - accuracy: 0.9639 - val_loss: 0.1803 - val_accuracy: 0.9367\n",
            "Epoch 29/100\n",
            "23/23 [==============================] - ETA: 0s - loss: 0.1037 - accuracy: 0.9621WARNING:tensorflow:Can save best model only with val_acc available, skipping.\n",
            "23/23 [==============================] - 4s 184ms/step - loss: 0.1037 - accuracy: 0.9621 - val_loss: 0.1845 - val_accuracy: 0.9367\n",
            "Epoch 30/100\n",
            "23/23 [==============================] - ETA: 0s - loss: 0.1091 - accuracy: 0.9544WARNING:tensorflow:Can save best model only with val_acc available, skipping.\n",
            "23/23 [==============================] - 4s 184ms/step - loss: 0.1091 - accuracy: 0.9544 - val_loss: 0.2008 - val_accuracy: 0.9295\n",
            "Epoch 31/100\n",
            "23/23 [==============================] - ETA: 0s - loss: 0.1173 - accuracy: 0.9508WARNING:tensorflow:Can save best model only with val_acc available, skipping.\n",
            "23/23 [==============================] - 4s 185ms/step - loss: 0.1173 - accuracy: 0.9508 - val_loss: 0.1750 - val_accuracy: 0.9313\n",
            "Epoch 32/100\n",
            "23/23 [==============================] - ETA: 0s - loss: 0.0977 - accuracy: 0.9616WARNING:tensorflow:Can save best model only with val_acc available, skipping.\n",
            "23/23 [==============================] - 4s 184ms/step - loss: 0.0977 - accuracy: 0.9616 - val_loss: 0.1767 - val_accuracy: 0.9421\n",
            "Epoch 33/100\n",
            "23/23 [==============================] - ETA: 0s - loss: 0.0876 - accuracy: 0.9634WARNING:tensorflow:Can save best model only with val_acc available, skipping.\n",
            "23/23 [==============================] - 4s 185ms/step - loss: 0.0876 - accuracy: 0.9634 - val_loss: 0.1943 - val_accuracy: 0.9295\n",
            "Epoch 34/100\n",
            "23/23 [==============================] - ETA: 0s - loss: 0.0881 - accuracy: 0.9684WARNING:tensorflow:Can save best model only with val_acc available, skipping.\n",
            "23/23 [==============================] - 5s 198ms/step - loss: 0.0881 - accuracy: 0.9684 - val_loss: 0.1840 - val_accuracy: 0.9295\n",
            "Epoch 35/100\n",
            "23/23 [==============================] - ETA: 0s - loss: 0.1041 - accuracy: 0.9634WARNING:tensorflow:Can save best model only with val_acc available, skipping.\n",
            "23/23 [==============================] - 4s 184ms/step - loss: 0.1041 - accuracy: 0.9634 - val_loss: 0.1579 - val_accuracy: 0.9313\n",
            "Epoch 36/100\n",
            "23/23 [==============================] - ETA: 0s - loss: 0.0949 - accuracy: 0.9634WARNING:tensorflow:Can save best model only with val_acc available, skipping.\n",
            "23/23 [==============================] - 4s 185ms/step - loss: 0.0949 - accuracy: 0.9634 - val_loss: 0.1515 - val_accuracy: 0.9458\n",
            "Epoch 37/100\n",
            "23/23 [==============================] - ETA: 0s - loss: 0.0843 - accuracy: 0.9715WARNING:tensorflow:Can save best model only with val_acc available, skipping.\n",
            "23/23 [==============================] - 4s 185ms/step - loss: 0.0843 - accuracy: 0.9715 - val_loss: 0.1400 - val_accuracy: 0.9494\n",
            "Epoch 38/100\n",
            "23/23 [==============================] - ETA: 0s - loss: 0.0821 - accuracy: 0.9706WARNING:tensorflow:Can save best model only with val_acc available, skipping.\n",
            "23/23 [==============================] - 4s 186ms/step - loss: 0.0821 - accuracy: 0.9706 - val_loss: 0.1396 - val_accuracy: 0.9494\n",
            "Epoch 39/100\n",
            "23/23 [==============================] - ETA: 0s - loss: 0.0843 - accuracy: 0.9679WARNING:tensorflow:Can save best model only with val_acc available, skipping.\n",
            "23/23 [==============================] - 4s 186ms/step - loss: 0.0843 - accuracy: 0.9679 - val_loss: 0.1237 - val_accuracy: 0.9620\n",
            "Epoch 40/100\n",
            "23/23 [==============================] - ETA: 0s - loss: 0.0900 - accuracy: 0.9675WARNING:tensorflow:Can save best model only with val_acc available, skipping.\n",
            "23/23 [==============================] - 4s 186ms/step - loss: 0.0900 - accuracy: 0.9675 - val_loss: 0.1560 - val_accuracy: 0.9476\n",
            "Epoch 41/100\n",
            "23/23 [==============================] - ETA: 0s - loss: 0.0736 - accuracy: 0.9734WARNING:tensorflow:Can save best model only with val_acc available, skipping.\n",
            "23/23 [==============================] - 4s 186ms/step - loss: 0.0736 - accuracy: 0.9734 - val_loss: 0.1383 - val_accuracy: 0.9512\n",
            "Epoch 42/100\n",
            "23/23 [==============================] - ETA: 0s - loss: 0.0900 - accuracy: 0.9639WARNING:tensorflow:Can save best model only with val_acc available, skipping.\n",
            "23/23 [==============================] - 4s 186ms/step - loss: 0.0900 - accuracy: 0.9639 - val_loss: 0.1473 - val_accuracy: 0.9439\n",
            "Epoch 43/100\n",
            "23/23 [==============================] - ETA: 0s - loss: 0.0764 - accuracy: 0.9720WARNING:tensorflow:Can save best model only with val_acc available, skipping.\n",
            "23/23 [==============================] - 4s 185ms/step - loss: 0.0764 - accuracy: 0.9720 - val_loss: 0.1316 - val_accuracy: 0.9548\n",
            "Epoch 44/100\n",
            "23/23 [==============================] - ETA: 0s - loss: 0.0786 - accuracy: 0.9729WARNING:tensorflow:Can save best model only with val_acc available, skipping.\n",
            "23/23 [==============================] - 4s 186ms/step - loss: 0.0786 - accuracy: 0.9729 - val_loss: 0.1400 - val_accuracy: 0.9439\n",
            "Epoch 45/100\n",
            "23/23 [==============================] - ETA: 0s - loss: 0.0850 - accuracy: 0.9652WARNING:tensorflow:Can save best model only with val_acc available, skipping.\n",
            "23/23 [==============================] - 4s 186ms/step - loss: 0.0850 - accuracy: 0.9652 - val_loss: 0.1880 - val_accuracy: 0.9349\n",
            "Epoch 46/100\n",
            "23/23 [==============================] - ETA: 0s - loss: 0.0715 - accuracy: 0.9738WARNING:tensorflow:Can save best model only with val_acc available, skipping.\n",
            "23/23 [==============================] - 4s 185ms/step - loss: 0.0715 - accuracy: 0.9738 - val_loss: 0.1399 - val_accuracy: 0.9566\n",
            "Epoch 47/100\n",
            "23/23 [==============================] - ETA: 0s - loss: 0.0607 - accuracy: 0.9761WARNING:tensorflow:Can save best model only with val_acc available, skipping.\n",
            "23/23 [==============================] - 4s 186ms/step - loss: 0.0607 - accuracy: 0.9761 - val_loss: 0.1430 - val_accuracy: 0.9494\n",
            "Epoch 48/100\n",
            "23/23 [==============================] - ETA: 0s - loss: 0.0605 - accuracy: 0.9779WARNING:tensorflow:Can save best model only with val_acc available, skipping.\n",
            "23/23 [==============================] - 4s 184ms/step - loss: 0.0605 - accuracy: 0.9779 - val_loss: 0.1227 - val_accuracy: 0.9620\n",
            "Epoch 49/100\n",
            "23/23 [==============================] - ETA: 0s - loss: 0.0578 - accuracy: 0.9815WARNING:tensorflow:Can save best model only with val_acc available, skipping.\n",
            "23/23 [==============================] - 4s 185ms/step - loss: 0.0578 - accuracy: 0.9815 - val_loss: 0.1175 - val_accuracy: 0.9476\n",
            "Epoch 50/100\n",
            "23/23 [==============================] - ETA: 0s - loss: 0.0583 - accuracy: 0.9806WARNING:tensorflow:Can save best model only with val_acc available, skipping.\n",
            "23/23 [==============================] - 5s 199ms/step - loss: 0.0583 - accuracy: 0.9806 - val_loss: 0.1157 - val_accuracy: 0.9584\n",
            "Epoch 51/100\n",
            "23/23 [==============================] - ETA: 0s - loss: 0.0749 - accuracy: 0.9720WARNING:tensorflow:Can save best model only with val_acc available, skipping.\n",
            "23/23 [==============================] - 4s 185ms/step - loss: 0.0749 - accuracy: 0.9720 - val_loss: 0.1534 - val_accuracy: 0.9439\n",
            "Epoch 52/100\n",
            "23/23 [==============================] - ETA: 0s - loss: 0.0735 - accuracy: 0.9752WARNING:tensorflow:Can save best model only with val_acc available, skipping.\n",
            "23/23 [==============================] - 4s 183ms/step - loss: 0.0735 - accuracy: 0.9752 - val_loss: 0.1415 - val_accuracy: 0.9512\n",
            "Epoch 53/100\n",
            "23/23 [==============================] - ETA: 0s - loss: 0.0741 - accuracy: 0.9734WARNING:tensorflow:Can save best model only with val_acc available, skipping.\n",
            "23/23 [==============================] - 4s 186ms/step - loss: 0.0741 - accuracy: 0.9734 - val_loss: 0.1189 - val_accuracy: 0.9548\n",
            "Epoch 54/100\n",
            "23/23 [==============================] - ETA: 0s - loss: 0.0914 - accuracy: 0.9675WARNING:tensorflow:Can save best model only with val_acc available, skipping.\n",
            "23/23 [==============================] - 4s 184ms/step - loss: 0.0914 - accuracy: 0.9675 - val_loss: 0.1051 - val_accuracy: 0.9638\n",
            "Epoch 55/100\n",
            "23/23 [==============================] - ETA: 0s - loss: 0.0696 - accuracy: 0.9770WARNING:tensorflow:Can save best model only with val_acc available, skipping.\n",
            "23/23 [==============================] - 4s 185ms/step - loss: 0.0696 - accuracy: 0.9770 - val_loss: 0.1734 - val_accuracy: 0.9403\n",
            "Epoch 56/100\n",
            "23/23 [==============================] - ETA: 0s - loss: 0.0600 - accuracy: 0.9761WARNING:tensorflow:Can save best model only with val_acc available, skipping.\n",
            "23/23 [==============================] - 4s 184ms/step - loss: 0.0600 - accuracy: 0.9761 - val_loss: 0.1188 - val_accuracy: 0.9620\n",
            "Epoch 57/100\n",
            "23/23 [==============================] - ETA: 0s - loss: 0.0592 - accuracy: 0.9765WARNING:tensorflow:Can save best model only with val_acc available, skipping.\n",
            "23/23 [==============================] - 4s 184ms/step - loss: 0.0592 - accuracy: 0.9765 - val_loss: 0.1084 - val_accuracy: 0.9566\n",
            "Epoch 58/100\n",
            "23/23 [==============================] - ETA: 0s - loss: 0.0597 - accuracy: 0.9765"
          ]
        }
      ]
    },
    {
      "cell_type": "code",
      "metadata": {
        "id": "HUZXrzFTr2Xp"
      },
      "source": [
        "model.summary()"
      ],
      "execution_count": null,
      "outputs": []
    },
    {
      "cell_type": "code",
      "metadata": {
        "id": "Tq10enUgtXLy"
      },
      "source": [
        "tf.keras.utils.plot_model(\n",
        "    model,\n",
        "    to_file=\"model.png\",\n",
        "    show_shapes=False,\n",
        "    show_layer_names=False,\n",
        "    rankdir=\"TB\",\n",
        "    expand_nested=False,\n",
        "    dpi=100,\n",
        ")"
      ],
      "execution_count": null,
      "outputs": []
    },
    {
      "cell_type": "code",
      "metadata": {
        "id": "1_pqE85Hd5bD"
      },
      "source": [
        "from sklearn.metrics import accuracy_score\n",
        "test_preds = model.predict_classes(test)\n",
        "print(\"başarım\", accuracy_score(test_target, test_preds))\n"
      ],
      "execution_count": null,
      "outputs": []
    },
    {
      "cell_type": "code",
      "metadata": {
        "id": "YvcWY4mtW_m_"
      },
      "source": [
        "'''from keras.models import load_model\n",
        "model=load_model('/content/drive/My Drive/Colab Notebooks/modelfalladl.py')'''"
      ],
      "execution_count": null,
      "outputs": []
    },
    {
      "cell_type": "code",
      "metadata": {
        "id": "UY29fH2F7kDU"
      },
      "source": [
        "#model.save('/content/drive/My Drive/Colab Notebooks/modelfalladl.py')\n"
      ],
      "execution_count": null,
      "outputs": []
    },
    {
      "cell_type": "code",
      "metadata": {
        "id": "2mq_cm8qTD1E"
      },
      "source": [
        "from tensorflow.keras.optimizers import Adam\n",
        "\n",
        "\n",
        "adam = Adam(lr=0.001)\n",
        "chk = ModelCheckpoint('best_model.pkl', monitor='val_acc', save_best_only=True, mode='max', verbose=1)\n",
        "model.compile(loss='binary_crossentropy', optimizer=adam, metrics=['accuracy'])\n",
        "history = model.fit(train, train_target, epochs=100, batch_size=100, callbacks=[chk], validation_data=(validation,validation_target))\n",
        "\n",
        "\n",
        "\n",
        "#loading the model and checking accuracy on the test data\n",
        "#model = load_model('best_model1.pkl')\n",
        "\n"
      ],
      "execution_count": null,
      "outputs": []
    },
    {
      "cell_type": "code",
      "metadata": {
        "id": "Rq5OKYU8v5Iy"
      },
      "source": [
        "from sklearn.metrics import accuracy_score\n",
        "test_preds = model.predict(test)\n"
      ],
      "execution_count": 1,
      "outputs": []
    },
    {
      "cell_type": "code",
      "metadata": {
        "id": "pRPfAQN9lLO-"
      },
      "source": [
        "plt.figure(figsize=(14,4))\n",
        "plt.subplot(1,2,1)\n",
        "plt.plot(history.history['accuracy'])\n",
        "plt.plot(history.history['val_accuracy'])\n",
        "plt.title('Model Accuracy')\n",
        "plt.xlabel('Epoch')\n",
        "plt.ylabel('Accuracy')\n",
        "plt.legend(['Train','Test'], loc='upper left')\n",
        "\n",
        "plt.subplot(2,2,1)\n",
        "plt.plot(history.history['loss'])\n",
        "plt.plot(history.history['val_loss'])\n",
        "plt.title('Model Loss')\n",
        "plt.xlabel('Epoch')\n",
        "plt.ylabel('Loss')\n",
        "plt.legend(['Train','Test'], loc='upper left')\n",
        "plt.savefig('/content/drive/My Drive/Colab Notebooks/yeni7.png', format='png', dpi=300)\n",
        "\n",
        "plt.show()\n",
        "# Do the plot code\n"
      ],
      "execution_count": null,
      "outputs": []
    },
    {
      "cell_type": "code",
      "metadata": {
        "id": "advay-vcrazf"
      },
      "source": [
        "#from sklearn.metrics import confusion_matrix,classification_report\n",
        "\n",
        "#print(confusion_matrix(test_target,test_preds))\n",
        "#print(classification_report(test_target,test_preds))"
      ],
      "execution_count": null,
      "outputs": []
    },
    {
      "cell_type": "code",
      "metadata": {
        "id": "6j1YEobzS7gM"
      },
      "source": [
        "conf = confusion_matrix(test_target, test_preds)\n",
        "TP = conf[0,0]\n",
        "FP = conf[0,1]\n",
        "TN = conf[1,0]\n",
        "FN = conf[1,1]"
      ],
      "execution_count": null,
      "outputs": []
    },
    {
      "cell_type": "code",
      "metadata": {
        "id": "ss5E7gRUTDX8"
      },
      "source": [
        "FP"
      ],
      "execution_count": null,
      "outputs": []
    },
    {
      "cell_type": "code",
      "metadata": {
        "id": "Wm49lTQoTEOI"
      },
      "source": [
        "TN"
      ],
      "execution_count": null,
      "outputs": []
    },
    {
      "cell_type": "code",
      "metadata": {
        "id": "gwTVUG87TIqx"
      },
      "source": [
        "FN"
      ],
      "execution_count": null,
      "outputs": []
    },
    {
      "cell_type": "code",
      "metadata": {
        "id": "7S2520jd0wKP"
      },
      "source": [
        "TP"
      ],
      "execution_count": null,
      "outputs": []
    },
    {
      "cell_type": "code",
      "metadata": {
        "id": "wWrnwbNg_1Uo"
      },
      "source": [
        "def get_roc_curve(y_test, y_proba, delta=0.1):\n",
        "    \"\"\"\n",
        "    Return the True Positive Rates (TPRs), False Positive Rates (FPRs), \n",
        "    and the threshold values, seperated by delta.\n",
        "    \"\"\"\n",
        "    thresh = list(np.arange(0, 1, delta)) + [1]\n",
        "    TPRs = []\n",
        "    FPRs = []\n",
        "    y_pred = np.empty(y_proba.shape)\n",
        "    for th in thresh:\n",
        "        y_pred[y_proba < th] = 0\n",
        "        y_pred[y_proba >= th] = 1\n",
        "        \n",
        "        # confusion matrix from the function we defined\n",
        "        (TN, FP), (FN, TP) = confusion_matrix(test_target, test_preds)\n",
        "        \n",
        "        TPR = TP / (TP + FN)  # sensitivity\n",
        "        FPR = FP / (FP + TN)  # 1 - specificity\n",
        "        TPRs.append(TPR)\n",
        "        FPRs.append(FPR)\n",
        "    return FPRs, TPRs, thresh"
      ],
      "execution_count": null,
      "outputs": []
    },
    {
      "cell_type": "code",
      "metadata": {
        "id": "hviAGFk7_msy"
      },
      "source": [
        "delta = 0.001\n",
        "FPRs, TPRs, _ = get_roc_curve(test_target, test_preds, delta)"
      ],
      "execution_count": null,
      "outputs": []
    },
    {
      "cell_type": "code",
      "metadata": {
        "id": "_XaBmIcJ_lZd"
      },
      "source": [
        "# Plot the ROC curve\n",
        "plt.plot(FPRs, TPRs, color='red',\n",
        "         lw=2, label='ROC curve')\n",
        "plt.plot([0, 1], [0, 1], color='navy', lw=2, linestyle='--', label=\"Mean\")\n",
        "plt.xlim([-0.05, 1.0])\n",
        "plt.ylim([0.0, 1.05])\n",
        "plt.xlabel('False Positive Rate')\n",
        "plt.ylabel('True Positive Rate')\n",
        "plt.title(f'ROC curve (threshold delta = {delta})')\n",
        "plt.legend(loc=\"lower right\")\n",
        "plt.show()"
      ],
      "execution_count": null,
      "outputs": []
    }
  ]
}